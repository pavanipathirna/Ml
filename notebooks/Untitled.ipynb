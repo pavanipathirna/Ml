{
 "cells": [
  {
   "cell_type": "code",
   "execution_count": 1,
   "id": "3bb3b5a7-6589-429f-a26d-692181b5c00c",
   "metadata": {},
   "outputs": [],
   "source": [
    "import numpy as np\n"
   ]
  },
  {
   "cell_type": "code",
   "execution_count": 8,
   "id": "98e1a439-af91-46af-9d33-8581c8455f92",
   "metadata": {},
   "outputs": [],
   "source": [
    "import pandas as pd\n",
    "\n",
    "file_path = r'..\\artifacts\\5\\test\\0_classes.csv'\n",
    "train_data = pd.read_csv(file_path)\n"
   ]
  },
  {
   "cell_type": "code",
   "execution_count": 9,
   "id": "3af94d4a-4cdb-4129-a297-75f6814c5717",
   "metadata": {},
   "outputs": [],
   "source": [
    "file_path = r'..\\artifacts\\5\\train\\0_classes.csv'\n",
    "train_data = pd.read_csv(file_path)"
   ]
  },
  {
   "cell_type": "code",
   "execution_count": 10,
   "id": "524cb71b-dad6-43d7-b2db-824f6c21ab7e",
   "metadata": {},
   "outputs": [],
   "source": [
    "file_path = r'..\\artifacts\\5\\valid\\0_classes.csv'\n",
    "train_data = pd.read_csv(file_path)"
   ]
  },
  {
   "cell_type": "code",
   "execution_count": 12,
   "id": "c30aa1d7-d123-4626-b1ab-4f65674b1650",
   "metadata": {},
   "outputs": [],
   "source": [
    "##data preprocessing\n"
   ]
  },
  {
   "cell_type": "code",
   "execution_count": 15,
   "id": "fae66c0e-db1a-48e4-9ddb-a379c3dbfc96",
   "metadata": {},
   "outputs": [],
   "source": [
    "data = pd.read_csv('..\\\\artifacts\\\\5\\\\test\\\\0_classes.csv')\n"
   ]
  },
  {
   "cell_type": "code",
   "execution_count": 16,
   "id": "eb951a66-13f0-40c9-b4ae-7d84e61e3bf3",
   "metadata": {},
   "outputs": [
    {
     "data": {
      "text/html": [
       "<div>\n",
       "<style scoped>\n",
       "    .dataframe tbody tr th:only-of-type {\n",
       "        vertical-align: middle;\n",
       "    }\n",
       "\n",
       "    .dataframe tbody tr th {\n",
       "        vertical-align: top;\n",
       "    }\n",
       "\n",
       "    .dataframe thead th {\n",
       "        text-align: right;\n",
       "    }\n",
       "</style>\n",
       "<table border=\"1\" class=\"dataframe\">\n",
       "  <thead>\n",
       "    <tr style=\"text-align: right;\">\n",
       "      <th></th>\n",
       "      <th>filename</th>\n",
       "      <th>Apple</th>\n",
       "      <th>Banana</th>\n",
       "      <th>Grapes</th>\n",
       "      <th>Kiwi</th>\n",
       "      <th>Mango</th>\n",
       "      <th>Orange</th>\n",
       "      <th>Pineapple</th>\n",
       "      <th>Sugerapple</th>\n",
       "      <th>Watermelon</th>\n",
       "    </tr>\n",
       "  </thead>\n",
       "  <tbody>\n",
       "    <tr>\n",
       "      <th>0</th>\n",
       "      <td>Image_50_jpg.rf.1d9648831986b61501ad830a42bf06...</td>\n",
       "      <td>0</td>\n",
       "      <td>0</td>\n",
       "      <td>0</td>\n",
       "      <td>0</td>\n",
       "      <td>0</td>\n",
       "      <td>0</td>\n",
       "      <td>0</td>\n",
       "      <td>0</td>\n",
       "      <td>1</td>\n",
       "    </tr>\n",
       "    <tr>\n",
       "      <th>1</th>\n",
       "      <td>Image_9_jpg.rf.4313573cfb7e9f2ad675a6720ab822c...</td>\n",
       "      <td>0</td>\n",
       "      <td>1</td>\n",
       "      <td>0</td>\n",
       "      <td>0</td>\n",
       "      <td>0</td>\n",
       "      <td>0</td>\n",
       "      <td>0</td>\n",
       "      <td>0</td>\n",
       "      <td>0</td>\n",
       "    </tr>\n",
       "    <tr>\n",
       "      <th>2</th>\n",
       "      <td>images-2023-02-07T153404-897_jpeg.rf.06f8ff26c...</td>\n",
       "      <td>0</td>\n",
       "      <td>0</td>\n",
       "      <td>0</td>\n",
       "      <td>0</td>\n",
       "      <td>1</td>\n",
       "      <td>0</td>\n",
       "      <td>0</td>\n",
       "      <td>0</td>\n",
       "      <td>0</td>\n",
       "    </tr>\n",
       "    <tr>\n",
       "      <th>3</th>\n",
       "      <td>images-2023-02-07T154729-469_jpeg.rf.47d2cdc39...</td>\n",
       "      <td>0</td>\n",
       "      <td>0</td>\n",
       "      <td>0</td>\n",
       "      <td>0</td>\n",
       "      <td>0</td>\n",
       "      <td>1</td>\n",
       "      <td>0</td>\n",
       "      <td>0</td>\n",
       "      <td>0</td>\n",
       "    </tr>\n",
       "    <tr>\n",
       "      <th>4</th>\n",
       "      <td>Image_40_jpg.rf.14b30ffb322f11e90516c57d903cf4...</td>\n",
       "      <td>0</td>\n",
       "      <td>0</td>\n",
       "      <td>0</td>\n",
       "      <td>0</td>\n",
       "      <td>0</td>\n",
       "      <td>0</td>\n",
       "      <td>0</td>\n",
       "      <td>0</td>\n",
       "      <td>1</td>\n",
       "    </tr>\n",
       "  </tbody>\n",
       "</table>\n",
       "</div>"
      ],
      "text/plain": [
       "                                            filename   Apple   Banana  \\\n",
       "0  Image_50_jpg.rf.1d9648831986b61501ad830a42bf06...       0        0   \n",
       "1  Image_9_jpg.rf.4313573cfb7e9f2ad675a6720ab822c...       0        1   \n",
       "2  images-2023-02-07T153404-897_jpeg.rf.06f8ff26c...       0        0   \n",
       "3  images-2023-02-07T154729-469_jpeg.rf.47d2cdc39...       0        0   \n",
       "4  Image_40_jpg.rf.14b30ffb322f11e90516c57d903cf4...       0        0   \n",
       "\n",
       "    Grapes   Kiwi   Mango   Orange   Pineapple   Sugerapple   Watermelon  \n",
       "0        0      0       0        0           0            0            1  \n",
       "1        0      0       0        0           0            0            0  \n",
       "2        0      0       1        0           0            0            0  \n",
       "3        0      0       0        1           0            0            0  \n",
       "4        0      0       0        0           0            0            1  "
      ]
     },
     "execution_count": 16,
     "metadata": {},
     "output_type": "execute_result"
    }
   ],
   "source": [
    "data.head()"
   ]
  },
  {
   "cell_type": "code",
   "execution_count": 18,
   "id": "372fb9cb-42ca-4b52-b394-3a1ca09b5ec5",
   "metadata": {},
   "outputs": [
    {
     "data": {
      "text/plain": [
       "(90, 10)"
      ]
     },
     "execution_count": 18,
     "metadata": {},
     "output_type": "execute_result"
    }
   ],
   "source": [
    "data.shape\n"
   ]
  },
  {
   "cell_type": "code",
   "execution_count": 21,
   "id": "50d5aa18-a2ed-478a-9272-3e779bb09a59",
   "metadata": {},
   "outputs": [
    {
     "data": {
      "text/plain": [
       "0"
      ]
     },
     "execution_count": 21,
     "metadata": {},
     "output_type": "execute_result"
    }
   ],
   "source": [
    "data.duplicated().sum()"
   ]
  },
  {
   "cell_type": "code",
   "execution_count": 22,
   "id": "7c3ec4bf-4414-4162-b6aa-e63f01b7cf1c",
   "metadata": {},
   "outputs": [
    {
     "data": {
      "text/plain": [
       "filename       0\n",
       " Apple         0\n",
       " Banana        0\n",
       " Grapes        0\n",
       " Kiwi          0\n",
       " Mango         0\n",
       " Orange        0\n",
       " Pineapple     0\n",
       " Sugerapple    0\n",
       " Watermelon    0\n",
       "dtype: int64"
      ]
     },
     "execution_count": 22,
     "metadata": {},
     "output_type": "execute_result"
    }
   ],
   "source": [
    "data.isnull().sum()"
   ]
  },
  {
   "cell_type": "code",
   "execution_count": 23,
   "id": "de003176-daf1-4b2e-a646-683c8e9eda4a",
   "metadata": {},
   "outputs": [],
   "source": [
    "data = pd.read_csv('..\\\\artifacts\\\\5\\\\train\\\\0_classes.csv')"
   ]
  },
  {
   "cell_type": "code",
   "execution_count": 24,
   "id": "6ba5a532-ec6e-4c32-9d12-8c375f707a5c",
   "metadata": {},
   "outputs": [
    {
     "data": {
      "text/html": [
       "<div>\n",
       "<style scoped>\n",
       "    .dataframe tbody tr th:only-of-type {\n",
       "        vertical-align: middle;\n",
       "    }\n",
       "\n",
       "    .dataframe tbody tr th {\n",
       "        vertical-align: top;\n",
       "    }\n",
       "\n",
       "    .dataframe thead th {\n",
       "        text-align: right;\n",
       "    }\n",
       "</style>\n",
       "<table border=\"1\" class=\"dataframe\">\n",
       "  <thead>\n",
       "    <tr style=\"text-align: right;\">\n",
       "      <th></th>\n",
       "      <th>filename</th>\n",
       "      <th>Apple</th>\n",
       "      <th>Banana</th>\n",
       "      <th>Grapes</th>\n",
       "      <th>Kiwi</th>\n",
       "      <th>Mango</th>\n",
       "      <th>Orange</th>\n",
       "      <th>Pineapple</th>\n",
       "      <th>Sugerapple</th>\n",
       "      <th>Watermelon</th>\n",
       "    </tr>\n",
       "  </thead>\n",
       "  <tbody>\n",
       "    <tr>\n",
       "      <th>0</th>\n",
       "      <td>Image_83_jpg.rf.a8f265b8df3540d51f58d248f193f7...</td>\n",
       "      <td>0</td>\n",
       "      <td>0</td>\n",
       "      <td>0</td>\n",
       "      <td>1</td>\n",
       "      <td>0</td>\n",
       "      <td>0</td>\n",
       "      <td>0</td>\n",
       "      <td>0</td>\n",
       "      <td>0</td>\n",
       "    </tr>\n",
       "    <tr>\n",
       "      <th>1</th>\n",
       "      <td>images-2023-02-07T155811-656_jpeg.rf.a9b9be4c2...</td>\n",
       "      <td>0</td>\n",
       "      <td>0</td>\n",
       "      <td>0</td>\n",
       "      <td>0</td>\n",
       "      <td>0</td>\n",
       "      <td>0</td>\n",
       "      <td>0</td>\n",
       "      <td>0</td>\n",
       "      <td>1</td>\n",
       "    </tr>\n",
       "    <tr>\n",
       "      <th>2</th>\n",
       "      <td>Image_51_jpg.rf.a93e4010657a33cac9925c7c737aac...</td>\n",
       "      <td>0</td>\n",
       "      <td>0</td>\n",
       "      <td>0</td>\n",
       "      <td>1</td>\n",
       "      <td>0</td>\n",
       "      <td>0</td>\n",
       "      <td>0</td>\n",
       "      <td>0</td>\n",
       "      <td>0</td>\n",
       "    </tr>\n",
       "    <tr>\n",
       "      <th>3</th>\n",
       "      <td>images-2023-02-07T160736-941_jpeg.rf.a896b4e19...</td>\n",
       "      <td>1</td>\n",
       "      <td>0</td>\n",
       "      <td>0</td>\n",
       "      <td>0</td>\n",
       "      <td>0</td>\n",
       "      <td>0</td>\n",
       "      <td>0</td>\n",
       "      <td>0</td>\n",
       "      <td>0</td>\n",
       "    </tr>\n",
       "    <tr>\n",
       "      <th>4</th>\n",
       "      <td>images-2023-02-07T161801-786_jpeg.rf.a9b221e69...</td>\n",
       "      <td>0</td>\n",
       "      <td>0</td>\n",
       "      <td>0</td>\n",
       "      <td>0</td>\n",
       "      <td>0</td>\n",
       "      <td>0</td>\n",
       "      <td>0</td>\n",
       "      <td>1</td>\n",
       "      <td>0</td>\n",
       "    </tr>\n",
       "  </tbody>\n",
       "</table>\n",
       "</div>"
      ],
      "text/plain": [
       "                                            filename   Apple   Banana  \\\n",
       "0  Image_83_jpg.rf.a8f265b8df3540d51f58d248f193f7...       0        0   \n",
       "1  images-2023-02-07T155811-656_jpeg.rf.a9b9be4c2...       0        0   \n",
       "2  Image_51_jpg.rf.a93e4010657a33cac9925c7c737aac...       0        0   \n",
       "3  images-2023-02-07T160736-941_jpeg.rf.a896b4e19...       1        0   \n",
       "4  images-2023-02-07T161801-786_jpeg.rf.a9b221e69...       0        0   \n",
       "\n",
       "    Grapes   Kiwi   Mango   Orange   Pineapple   Sugerapple   Watermelon  \n",
       "0        0      1       0        0           0            0            0  \n",
       "1        0      0       0        0           0            0            1  \n",
       "2        0      1       0        0           0            0            0  \n",
       "3        0      0       0        0           0            0            0  \n",
       "4        0      0       0        0           0            1            0  "
      ]
     },
     "execution_count": 24,
     "metadata": {},
     "output_type": "execute_result"
    }
   ],
   "source": [
    "data.head()"
   ]
  },
  {
   "cell_type": "code",
   "execution_count": 25,
   "id": "99bb3ee4-551f-45b9-b872-fef0628e35cd",
   "metadata": {},
   "outputs": [
    {
     "data": {
      "text/plain": [
       "0"
      ]
     },
     "execution_count": 25,
     "metadata": {},
     "output_type": "execute_result"
    }
   ],
   "source": [
    "data.duplicated().sum()"
   ]
  },
  {
   "cell_type": "code",
   "execution_count": 26,
   "id": "21977b1a-68f2-4e60-b128-4ea5ad21dacd",
   "metadata": {},
   "outputs": [
    {
     "data": {
      "text/plain": [
       "filename       0\n",
       " Apple         0\n",
       " Banana        0\n",
       " Grapes        0\n",
       " Kiwi          0\n",
       " Mango         0\n",
       " Orange        0\n",
       " Pineapple     0\n",
       " Sugerapple    0\n",
       " Watermelon    0\n",
       "dtype: int64"
      ]
     },
     "execution_count": 26,
     "metadata": {},
     "output_type": "execute_result"
    }
   ],
   "source": [
    "data.isnull().sum()"
   ]
  },
  {
   "cell_type": "code",
   "execution_count": 27,
   "id": "096a4eb0-682d-4560-a992-b80033145e10",
   "metadata": {},
   "outputs": [],
   "source": [
    "data = pd.read_csv('..\\\\artifacts\\\\5\\\\valid\\\\0_classes.csv')"
   ]
  },
  {
   "cell_type": "code",
   "execution_count": 28,
   "id": "5dfdf15b-da23-4ed4-af66-9cc8c73ca49a",
   "metadata": {},
   "outputs": [
    {
     "data": {
      "text/plain": [
       "0"
      ]
     },
     "execution_count": 28,
     "metadata": {},
     "output_type": "execute_result"
    }
   ],
   "source": [
    "data.duplicated().sum()"
   ]
  },
  {
   "cell_type": "code",
   "execution_count": 44,
   "id": "b8e9b1d8-17a0-4fcd-9aa2-2966e61956e7",
   "metadata": {},
   "outputs": [
    {
     "data": {
      "text/plain": [
       "filename       0\n",
       " Apple         0\n",
       " Banana        0\n",
       " Grapes        0\n",
       " Kiwi          0\n",
       " Mango         0\n",
       " Orange        0\n",
       " Pineapple     0\n",
       " Sugerapple    0\n",
       " Watermelon    0\n",
       "dtype: int64"
      ]
     },
     "execution_count": 44,
     "metadata": {},
     "output_type": "execute_result"
    }
   ],
   "source": [
    "data.isnull().sum()\n"
   ]
  },
  {
   "cell_type": "code",
   "execution_count": 52,
   "id": "7f7ba760-6d75-4a0a-a8da-fa504962207b",
   "metadata": {},
   "outputs": [],
   "source": [
    "##create classificatin model\n"
   ]
  },
  {
   "cell_type": "code",
   "execution_count": 53,
   "id": "05850991-633f-4d5f-91af-da440514bec8",
   "metadata": {},
   "outputs": [],
   "source": [
    "import pandas as pd\n",
    "from sklearn.model_selection import train_test_split\n",
    "from sklearn.ensemble import RandomForestClassifier\n",
    "from sklearn.metrics import accuracy_score"
   ]
  },
  {
   "cell_type": "code",
   "execution_count": 55,
   "id": "890e62ae-ab7d-4ebf-94b6-4021c2cf36d0",
   "metadata": {},
   "outputs": [],
   "source": [
    "import pandas as pd"
   ]
  },
  {
   "cell_type": "code",
   "execution_count": 68,
   "id": "b0cd30e2-8412-416c-94fd-60e3951849df",
   "metadata": {},
   "outputs": [],
   "source": [
    "dataset1 = pd.read_csv(r'..\\artifacts\\5\\test\\0_classes.csv')"
   ]
  },
  {
   "cell_type": "code",
   "execution_count": 69,
   "id": "b4c54526-3a8a-4baf-884d-8233b90ea574",
   "metadata": {},
   "outputs": [],
   "source": [
    "dataset2 = pd.read_csv(r'..\\artifacts\\5\\train\\0_classes.csv')"
   ]
  },
  {
   "cell_type": "code",
   "execution_count": 70,
   "id": "b935ea50-824e-46b9-bb38-8e8e713e15f4",
   "metadata": {},
   "outputs": [],
   "source": [
    "dataset3 = pd.read_csv(r'..\\artifacts\\5\\valid\\0_classes.csv')"
   ]
  },
  {
   "cell_type": "code",
   "execution_count": 71,
   "id": "79d275c9-2b35-4de7-90a5-5921e1a731bc",
   "metadata": {},
   "outputs": [],
   "source": [
    "combined_data = pd.concat([dataset1, dataset2, dataset3], ignore_index=True)"
   ]
  },
  {
   "cell_type": "code",
   "execution_count": null,
   "id": "dca6f56f-a835-4bc0-9739-38bd64b54f9e",
   "metadata": {},
   "outputs": [],
   "source": []
  }
 ],
 "metadata": {
  "kernelspec": {
   "display_name": "Python 3 (ipykernel)",
   "language": "python",
   "name": "python3"
  },
  "language_info": {
   "codemirror_mode": {
    "name": "ipython",
    "version": 3
   },
   "file_extension": ".py",
   "mimetype": "text/x-python",
   "name": "python",
   "nbconvert_exporter": "python",
   "pygments_lexer": "ipython3",
   "version": "3.12.0"
  }
 },
 "nbformat": 4,
 "nbformat_minor": 5
}
